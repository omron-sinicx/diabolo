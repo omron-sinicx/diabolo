{
 "cells": [
  {
   "cell_type": "code",
   "execution_count": 1,
   "metadata": {},
   "outputs": [],
   "source": [
    "import pandas as pd\n",
    "import numpy as np\n",
    "import copy\n",
    "import math\n",
    "import os\n",
    "import sys\n",
    "import transformations as tftf"
   ]
  },
  {
   "cell_type": "code",
   "execution_count": 2,
   "metadata": {},
   "outputs": [],
   "source": [
    "experiment_directory = \"../experiments/recordings/2020-04-05\""
   ]
  },
  {
   "cell_type": "code",
   "execution_count": null,
   "metadata": {},
   "outputs": [],
   "source": [
    "## CALIBRATION\n",
    "# Get the offsets for each rigid body. The offset transforms from the center of the rigid body\n",
    "# to the point of interest (stick tip or diabolo center)\n",
    "\n",
    "f = pd.read_csv(os.path.join(experiment_directory, \"diabolo_calib_red_2020-05-25_full.csv\"), header=[2,4,5])\n",
    "\n",
    "translation_diabolo_red_to_center = -f[\"diabolo_red\"][\"Position\"].iloc[1].values\n",
    "translation_diabolo_red_to_center[2] = translation_diabolo_red_to_center[2] + 0.0722   # Add height of the axis\n",
    "rotation_diabolo_red_to_center = tftf.quaternion_inverse(f[\"diabolo_red\"][\"Rotation\"].iloc[1].values)\n",
    "\n",
    "f = pd.read_csv(os.path.join(experiment_directory, \"stick_calib_2020-05-25_full.csv\"), header=[2,4,5])\n",
    "\n",
    "translation_right_stick_to_tip = -f[\"stick_right\"][\"Position\"].iloc[1].values \n",
    "translation_left_stick_to_tip = -f[\"stick_right\"][\"Position\"].iloc[1].values # TODO: Get this translation!!\n",
    "\n",
    "# Account for offset from ground (radius of the stick tip)\n",
    "translation_right_stick_to_tip[2] = translation_right_stick_to_tip[2] + 0.004\n",
    "translation_left_stick_to_tip[2] = translation_left_stick_to_tip[2] + 0.004"
   ]
  },
  {
   "cell_type": "code",
   "execution_count": 3,
   "metadata": {},
   "outputs": [],
   "source": [
    "## EXPERIMENT EVALUATION\n",
    "# Read in experiment file\n",
    "f = pd.read_csv(os.path.join(experiment_directory, \"Take_diabolo_red.csv\"), header=[2,4,5])\n",
    "\n",
    "# Read the diabolo marker positions and the stick marker positions\n",
    "# Determine 10 frames where is rotation is stationary \n",
    "# Calculate normal vector of the plane through the 3 markers\n",
    "# Get the average value"
   ]
  },
  {
   "cell_type": "code",
   "execution_count": 11,
   "metadata": {},
   "outputs": [
    {
     "data": {
      "text/plain": [
       "array([0.9885408 , 0.14875563, 0.02566825, 1.        ])"
      ]
     },
     "execution_count": 11,
     "metadata": {},
     "output_type": "execute_result"
    }
   ],
   "source": [
    "v = f[\"diabolo_red\"][\"Rotation\"][0:10]\n",
    "rotation_angles = v.iloc[0].tolist()\n",
    "R = tftf.quaternion_matrix(rotation_angles)\n",
    "v2 = np.array([1,0,0,1])\n",
    "np.dot(R,v2)"
   ]
  },
  {
   "cell_type": "code",
   "execution_count": 12,
   "metadata": {},
   "outputs": [],
   "source": [
    "# Extract diabolo orientations from dataset\n",
    "R_mats = []\n",
    "positions = []\n",
    "\n",
    "start_idx = 100\n",
    "length = 20\n",
    "for i in range(start_idx, start_idx+length):\n",
    "    # Get the orientations\n",
    "    # Either by getting the normal plane from all the points, or by estimating the rotation axis from\n",
    "    # the rotations, the raw orientations probably need to be converted to 3D vectors before averaging.\n",
    "    \n",
    "    rotation_angles_deg = f[\"diabolo_red\"][\"Rotation\"].iloc[i].values\n",
    "    R_mats.append(tftf.quaternion_matrix(rotation_angles))\n",
    "    \n",
    "    positions.append(f[\"diabolo_red\"][\"Position\"].iloc[i].values)\n",
    "    "
   ]
  },
  {
   "cell_type": "code",
   "execution_count": 10,
   "metadata": {},
   "outputs": [
    {
     "name": "stdout",
     "output_type": "stream",
     "text": [
      "new residual = 0\n"
     ]
    }
   ],
   "source": [
    "# Estimate the rotation axis from a series of orientations\n",
    "# To get the rotation axis, what needs to be minimized is the distance between the resulting vectors \n",
    "# of the rotation axis multiplied by each rotation.\n",
    "\n",
    "rotation_axis_old = np.array([1,0,0,1])\n",
    "rotation_axis_new = np.array([1,0,0,1])\n",
    "\n",
    "p = 0.01\n",
    "tries = 0\n",
    "\n",
    "residual = 100000\n",
    "\n",
    "## Random Walk algorithm to minimize the residual\n",
    "while residual > 1e-6:\n",
    "    tries += 1\n",
    "    rotated_axes = []\n",
    "    rotation_axis_new = copy.deepcopy(rotation_axis_old) + (np.random.rand(4)-0.5)*p\n",
    "    rotation_axis_new[0:3] = rotation_axis_new[0:3]/np.linalg.norm(rotation_axis_new[0:3]) # Normalize\n",
    "    rotation_axis_new[3] = 1.0\n",
    "    # normalize the first three elements\n",
    "    for i in range(len(R_mats)):\n",
    "        # Get the rotated version of each axis\n",
    "        rotated_axis = np.dot(R_mats[i],rotation_axis_new.transpose())\n",
    "        rotated_axes.append(rotated_axis)\n",
    "            \n",
    "    rdf = pd.DataFrame(rotated_axes)\n",
    "    residual_new = sum(rdf.std())\n",
    "    if residual_new < residual:\n",
    "        rotation_axis_old = copy.deepcopy(rotation_axis_new)\n",
    "        residual = residual_new\n",
    "        print(\"new residual = \" + str(residual_new))\n",
    "        tries = 0\n",
    "    \n",
    "    if tries > 100:\n",
    "        print(\"reducing factor\")\n",
    "        p = p*0.1\n",
    "        tries = 0\n",
    "        if p < 1e-8:\n",
    "            print(\"breaking out due to excessive tries\")\n",
    "            break\n",
    "\n",
    "# So the rotation axis at start_idx is:\n",
    "print(\"The estimated rotation axis is: \", rotation_axis_old)\n",
    "# Moving ~7 cm backwards along this axis should be close to the center of the diabolo."
   ]
  },
  {
   "cell_type": "code",
   "execution_count": 163,
   "metadata": {},
   "outputs": [
    {
     "data": {
      "text/plain": [
       "array([ 0.99977404, -0.02051707, -0.00556105,  1.        ])"
      ]
     },
     "execution_count": 163,
     "metadata": {},
     "output_type": "execute_result"
    }
   ],
   "source": []
  },
  {
   "cell_type": "code",
   "execution_count": null,
   "metadata": {},
   "outputs": [],
   "source": [
    "# Next: Check absolute motion of diabolo in these frames. Check that it is small.\n",
    "# Place the rotation axis on the average position, move backwards along the axis, and set that as the center\n",
    "# Determine the offset and rotation from the origin of the rigid body\n",
    "\n",
    "\n",
    "# THEN:\n",
    "# Make a function that for a given slice of the DataFrame:\n",
    "# - Calculates the rotation axis\n",
    "# - Calculates the rotation speed about that axis (if the axis is necessary)\n",
    "# - Calculates the offset from the rigid body center to the rotation axis\n",
    "# - Calculates the total motion of the rotation axis center\n",
    "# - "
   ]
  },
  {
   "cell_type": "code",
   "execution_count": null,
   "metadata": {},
   "outputs": [],
   "source": []
  },
  {
   "cell_type": "code",
   "execution_count": 14,
   "metadata": {},
   "outputs": [],
   "source": [
    "# TODO\n",
    "# Get and plot rotation speed of diabolo (is this independent of center of rotation? I think so)\n",
    "# Get center of diabolo (reliably)\n",
    "# "
   ]
  },
  {
   "cell_type": "code",
   "execution_count": 35,
   "metadata": {},
   "outputs": [],
   "source": []
  },
  {
   "cell_type": "code",
   "execution_count": 25,
   "metadata": {},
   "outputs": [
    {
     "data": {
      "text/plain": [
       "array([-0.64672566, -0.66439765,  0.25994786, -0.26971886])"
      ]
     },
     "execution_count": 25,
     "metadata": {},
     "output_type": "execute_result"
    }
   ],
   "source": []
  },
  {
   "cell_type": "code",
   "execution_count": null,
   "metadata": {},
   "outputs": [],
   "source": []
  }
 ],
 "metadata": {
  "kernelspec": {
   "display_name": "Python 3",
   "language": "python",
   "name": "python3"
  },
  "language_info": {
   "codemirror_mode": {
    "name": "ipython",
    "version": 3
   },
   "file_extension": ".py",
   "mimetype": "text/x-python",
   "name": "python",
   "nbconvert_exporter": "python",
   "pygments_lexer": "ipython3",
   "version": "3.7.1"
  }
 },
 "nbformat": 4,
 "nbformat_minor": 2
}
